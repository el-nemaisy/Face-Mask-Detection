{
 "cells": [
  {
   "cell_type": "code",
   "execution_count": 1,
   "id": "2ad33814",
   "metadata": {},
   "outputs": [
    {
     "name": "stdout",
     "output_type": "stream",
     "text": [
      "Collecting imutils\n",
      "  Downloading imutils-0.5.4.tar.gz (17 kB)\n",
      "  Preparing metadata (setup.py): started\n",
      "  Preparing metadata (setup.py): finished with status 'done'\n",
      "Building wheels for collected packages: imutils\n",
      "  Building wheel for imutils (setup.py): started\n",
      "  Building wheel for imutils (setup.py): finished with status 'done'\n",
      "  Created wheel for imutils: filename=imutils-0.5.4-py3-none-any.whl size=25854 sha256=51b09a1db5bd21e193a4cf09f6106aa3e6f2c9e1e170b016284131441a75d8dc\n",
      "  Stored in directory: c:\\users\\administrator\\appdata\\local\\pip\\cache\\wheels\\c2\\02\\32\\f3617a9f68bcc67eda3ebeb4514eba18f62e81ff439428109d\n",
      "Successfully built imutils\n",
      "Installing collected packages: imutils\n",
      "Successfully installed imutils-0.5.4\n",
      "Note: you may need to restart the kernel to use updated packages.\n"
     ]
    }
   ],
   "source": [
    "pip install imutils"
   ]
  },
  {
   "cell_type": "code",
   "execution_count": 1,
   "id": "4ea61857",
   "metadata": {},
   "outputs": [
    {
     "name": "stdout",
     "output_type": "stream",
     "text": [
      "WARNING:tensorflow:From C:\\Users\\Administrator\\anaconda3\\lib\\site-packages\\keras\\src\\losses.py:2976: The name tf.losses.sparse_softmax_cross_entropy is deprecated. Please use tf.compat.v1.losses.sparse_softmax_cross_entropy instead.\n",
      "\n"
     ]
    }
   ],
   "source": [
    "from tensorflow.keras.preprocessing.image import ImageDataGenerator\n",
    "from tensorflow.keras.applications import MobileNetV2\n",
    "from tensorflow.keras.layers import AveragePooling2D, Dropout , Flatten , Dense, Input\n",
    "\n",
    "from tensorflow.keras.models import Model\n",
    "from tensorflow.keras.optimizers import Adam\n",
    "\n",
    "from tensorflow.keras.applications.mobilenet_v2 import preprocess_input # Normalization\n",
    "from tensorflow.keras.preprocessing.image import img_to_array,load_img\n",
    "from tensorflow.keras.utils import to_categorical # convert vector to matrix\n",
    "from sklearn.preprocessing import LabelBinarizer # encoding\n",
    "from sklearn.model_selection import train_test_split\n",
    "from sklearn.metrics import classification_report\n",
    "# from imutils import paths\n",
    "import matplotlib.pyplot as plt\n",
    "import numpy as np\n",
    "import os\n",
    "\n",
    "# from tensorflow.keras.models import load_model\n",
    "# from imutils.viedeo import VideoStream # To open the camera\n",
    "# import numpy as np\n",
    "# import imutils\n",
    "# import time\n",
    "# import cv2\n",
    "# import os"
   ]
  },
  {
   "cell_type": "code",
   "execution_count": 2,
   "id": "00c7fc1d",
   "metadata": {},
   "outputs": [],
   "source": [
    "INIT_LR = 1e-4 # initial learninig rate (0.00001)\n",
    "EPOCHS = 20    # numberof epochs\n",
    "BS = 32        # bathc size"
   ]
  },
  {
   "cell_type": "markdown",
   "id": "7a12a156",
   "metadata": {},
   "source": [
    "### Import data and spliting into two categories"
   ]
  },
  {
   "cell_type": "code",
   "execution_count": 3,
   "id": "b44b6827",
   "metadata": {},
   "outputs": [],
   "source": [
    "DIRECTORY = r\"G:\\Computer Vision Projects\\Face mask detection\\data\"\n",
    "CATEGORIES = [\"with_mask\", \"without_mask\"]"
   ]
  },
  {
   "cell_type": "code",
   "execution_count": 4,
   "id": "35936b69",
   "metadata": {},
   "outputs": [
    {
     "name": "stdout",
     "output_type": "stream",
     "text": [
      "[info] loading images.....\n"
     ]
    },
    {
     "name": "stderr",
     "output_type": "stream",
     "text": [
      "C:\\Users\\Administrator\\anaconda3\\lib\\site-packages\\PIL\\Image.py:996: UserWarning: Palette images with Transparency expressed in bytes should be converted to RGBA images\n",
      "  warnings.warn(\n"
     ]
    }
   ],
   "source": [
    "DIRECTORY = r\"G:\\Computer Vision Projects\\Face mask detection\\data\"\n",
    "CATEGORIES = [\"with_mask\", \"without_mask\"]\n",
    "\n",
    "print(\"[info] loading images.....\")\n",
    "\n",
    "data = []\n",
    "labels = []\n",
    "\n",
    "for category in CATEGORIES:\n",
    "    path = os.path.join(DIRECTORY, category)\n",
    "    for img in os.listdir(path): # convert image names into list\n",
    "        img_path = os.path.join(path , img)\n",
    "        image = load_img(img_path , target_size = (224,224)) # size to adabt on mobilev2\n",
    "        image = img_to_array(image) # convert image to array to pass to neural network\n",
    "        image = preprocess_input(image) # Normaliztion of theimage\n",
    "        \n",
    "        # load images and labels\n",
    "        data.append(image)\n",
    "        labels.append(category)"
   ]
  },
  {
   "cell_type": "code",
   "execution_count": 5,
   "id": "56e305d0",
   "metadata": {},
   "outputs": [],
   "source": [
    "# perform ont-hot encoding on labels\n",
    "lb = LabelBinarizer()\n",
    "labels = lb.fit_transform(labels)\n",
    "labels = to_categorical(labels) # convert labels from vector to matrix\n",
    "\n",
    "data = np.array(data, dtype = \"float32\")\n",
    "labels = np.array(labels)\n"
   ]
  },
  {
   "cell_type": "markdown",
   "id": "d2a4a5f9",
   "metadata": {},
   "source": [
    "### Split data"
   ]
  },
  {
   "cell_type": "code",
   "execution_count": 6,
   "id": "98c8b8e1",
   "metadata": {},
   "outputs": [],
   "source": [
    "(X_train , x_test , Y_train , y_test) = train_test_split(data , labels, test_size = 0.20, stratify= labels , random_state= 42)"
   ]
  },
  {
   "cell_type": "markdown",
   "id": "5c37619e",
   "metadata": {},
   "source": [
    "### Modify images"
   ]
  },
  {
   "cell_type": "code",
   "execution_count": 7,
   "id": "941da907",
   "metadata": {},
   "outputs": [],
   "source": [
    "aug = ImageDataGenerator(\n",
    "    rotation_range=20,\n",
    "    zoom_range=0.15,\n",
    "    width_shift_range=0.2,\n",
    "    height_shift_range=0.2,\n",
    "    shear_range=0.15,\n",
    "    horizontal_flip=True,\n",
    "    fill_mode=\"nearest\")"
   ]
  },
  {
   "cell_type": "markdown",
   "id": "bc606615",
   "metadata": {},
   "source": [
    "### Load mobileNetv2 Model ensuring that the head FC layer are left off\n",
    "- **We remove the last FC layer and we will add our own output layers arichtictuer**\n",
    "- **ensure the head FC layer are left off**"
   ]
  },
  {
   "cell_type": "code",
   "execution_count": 8,
   "id": "3fbbec2f",
   "metadata": {},
   "outputs": [
    {
     "name": "stdout",
     "output_type": "stream",
     "text": [
      "WARNING:tensorflow:From C:\\Users\\Administrator\\anaconda3\\lib\\site-packages\\keras\\src\\backend.py:1398: The name tf.executing_eagerly_outside_functions is deprecated. Please use tf.compat.v1.executing_eagerly_outside_functions instead.\n",
      "\n",
      "WARNING:tensorflow:`input_shape` is undefined or non-square, or `rows` is not in [96, 128, 160, 192, 224]. Weights for input shape (224, 224) will be loaded as the default.\n",
      "WARNING:tensorflow:From C:\\Users\\Administrator\\anaconda3\\lib\\site-packages\\keras\\src\\layers\\normalization\\batch_normalization.py:979: The name tf.nn.fused_batch_norm is deprecated. Please use tf.compat.v1.nn.fused_batch_norm instead.\n",
      "\n"
     ]
    }
   ],
   "source": [
    "baseModel = MobileNetV2(weights=\"imagenet\" , include_top= False,\n",
    "                       input_tensor=Input(shape = (224, 224 , 3)))"
   ]
  },
  {
   "cell_type": "markdown",
   "id": "f2d4d144",
   "metadata": {},
   "source": [
    "**construct the head of the model that will be replaced on the top of our base model**"
   ]
  },
  {
   "cell_type": "code",
   "execution_count": 9,
   "id": "e82f1185",
   "metadata": {},
   "outputs": [],
   "source": [
    "headModel = baseModel.output\n",
    "headModel = AveragePooling2D(pool_size=(7, 7))(headModel)\n",
    "headModel = Flatten(name = \"flatten\")(headModel)\n",
    "headModel = Dense(128, activation=\"relu\")(headModel)\n",
    "headModel = Dropout(0.5)(headModel)                  # Avoid Overfitting\n",
    "headModel = Dense(2 , activation=\"softmax\")(headModel) # only two classes (with mask  - without mask)"
   ]
  },
  {
   "cell_type": "markdown",
   "id": "c5b2509d",
   "metadata": {},
   "source": [
    "### The final Model (baseModel + headModel)"
   ]
  },
  {
   "cell_type": "code",
   "execution_count": 10,
   "id": "e9558615",
   "metadata": {},
   "outputs": [],
   "source": [
    "model = Model(inputs = baseModel.input , outputs = headModel)"
   ]
  },
  {
   "cell_type": "markdown",
   "id": "e9fc3aa1",
   "metadata": {},
   "source": [
    "Freeze the layers of base model (mobilVNet) to stop updating the weights and use the old weights"
   ]
  },
  {
   "cell_type": "code",
   "execution_count": 11,
   "id": "fdf6d7c1",
   "metadata": {},
   "outputs": [],
   "source": [
    "for layer in baseModel.layers:\n",
    "    layer.trainable = False"
   ]
  },
  {
   "cell_type": "markdown",
   "id": "0cde30c2",
   "metadata": {},
   "source": [
    "### Compile the model"
   ]
  },
  {
   "cell_type": "code",
   "execution_count": 12,
   "id": "2bfc6413",
   "metadata": {},
   "outputs": [
    {
     "name": "stderr",
     "output_type": "stream",
     "text": [
      "WARNING:absl:`lr` is deprecated in Keras optimizer, please use `learning_rate` or use the legacy optimizer, e.g.,tf.keras.optimizers.legacy.Adam.\n"
     ]
    },
    {
     "name": "stdout",
     "output_type": "stream",
     "text": [
      "[info] compiling model...\n"
     ]
    }
   ],
   "source": [
    "print(\"[info] compiling model...\")\n",
    "\n",
    "# opt = Adam(lr = INIT_LR, dacay = INIT_LR / EPOCHS) # Decay to converge learning rate\n",
    "\n",
    "opt = Adam(lr = INIT_LR)\n",
    "\n",
    "model.compile(loss = \"binary_crossentropy\", optimizer = opt, metrics=[\"accuracy\"])"
   ]
  },
  {
   "cell_type": "markdown",
   "id": "c99fe262",
   "metadata": {},
   "source": [
    "### Train the head of the model"
   ]
  },
  {
   "cell_type": "code",
   "execution_count": 19,
   "id": "167dadd6",
   "metadata": {},
   "outputs": [
    {
     "name": "stdout",
     "output_type": "stream",
     "text": [
      "[info] training head...\n",
      "Epoch 1/20\n",
      "WARNING:tensorflow:From C:\\Users\\Administrator\\anaconda3\\lib\\site-packages\\keras\\src\\utils\\tf_utils.py:492: The name tf.ragged.RaggedTensorValue is deprecated. Please use tf.compat.v1.ragged.RaggedTensorValue instead.\n",
      "\n"
     ]
    },
    {
     "name": "stderr",
     "output_type": "stream",
     "text": [
      "WARNING:tensorflow:From C:\\Users\\Administrator\\anaconda3\\lib\\site-packages\\keras\\src\\utils\\tf_utils.py:492: The name tf.ragged.RaggedTensorValue is deprecated. Please use tf.compat.v1.ragged.RaggedTensorValue instead.\n",
      "\n"
     ]
    },
    {
     "name": "stdout",
     "output_type": "stream",
     "text": [
      "WARNING:tensorflow:From C:\\Users\\Administrator\\anaconda3\\lib\\site-packages\\keras\\src\\engine\\base_layer_utils.py:384: The name tf.executing_eagerly_outside_functions is deprecated. Please use tf.compat.v1.executing_eagerly_outside_functions instead.\n",
      "\n"
     ]
    },
    {
     "name": "stderr",
     "output_type": "stream",
     "text": [
      "WARNING:tensorflow:From C:\\Users\\Administrator\\anaconda3\\lib\\site-packages\\keras\\src\\engine\\base_layer_utils.py:384: The name tf.executing_eagerly_outside_functions is deprecated. Please use tf.compat.v1.executing_eagerly_outside_functions instead.\n",
      "\n"
     ]
    },
    {
     "name": "stdout",
     "output_type": "stream",
     "text": [
      "188/188 [==============================] - ETA: 0s - loss: 0.0873 - accuracy: 0.9704WARNING:tensorflow:Your input ran out of data; interrupting training. Make sure that your dataset or generator can generate at least `steps_per_epoch * epochs` batches (in this case, 47 batches). You may need to use the repeat() function when building your dataset.\n"
     ]
    },
    {
     "name": "stderr",
     "output_type": "stream",
     "text": [
      "WARNING:tensorflow:Your input ran out of data; interrupting training. Make sure that your dataset or generator can generate at least `steps_per_epoch * epochs` batches (in this case, 47 batches). You may need to use the repeat() function when building your dataset.\n"
     ]
    },
    {
     "name": "stdout",
     "output_type": "stream",
     "text": [
      "188/188 [==============================] - 199s 1s/step - loss: 0.0873 - accuracy: 0.9704 - val_loss: 0.0470 - val_accuracy: 0.9848\n",
      "Epoch 2/20\n",
      "188/188 [==============================] - 155s 825ms/step - loss: 0.0471 - accuracy: 0.9835\n",
      "Epoch 3/20\n",
      "188/188 [==============================] - 158s 838ms/step - loss: 0.0455 - accuracy: 0.9845\n",
      "Epoch 4/20\n",
      "188/188 [==============================] - 157s 836ms/step - loss: 0.0345 - accuracy: 0.9885\n",
      "Epoch 5/20\n",
      "188/188 [==============================] - 158s 841ms/step - loss: 0.0358 - accuracy: 0.9874\n",
      "Epoch 6/20\n",
      "188/188 [==============================] - 158s 840ms/step - loss: 0.0320 - accuracy: 0.9882\n",
      "Epoch 7/20\n",
      "188/188 [==============================] - 158s 841ms/step - loss: 0.0310 - accuracy: 0.9903\n",
      "Epoch 8/20\n",
      "188/188 [==============================] - 159s 847ms/step - loss: 0.0273 - accuracy: 0.9907\n",
      "Epoch 9/20\n",
      "188/188 [==============================] - 165s 876ms/step - loss: 0.0282 - accuracy: 0.9894\n",
      "Epoch 10/20\n",
      "188/188 [==============================] - 161s 857ms/step - loss: 0.0280 - accuracy: 0.9907\n",
      "Epoch 11/20\n",
      "188/188 [==============================] - 155s 826ms/step - loss: 0.0228 - accuracy: 0.9932\n",
      "Epoch 12/20\n",
      "188/188 [==============================] - 155s 824ms/step - loss: 0.0221 - accuracy: 0.9925\n",
      "Epoch 13/20\n",
      "188/188 [==============================] - 155s 824ms/step - loss: 0.0240 - accuracy: 0.9917\n",
      "Epoch 14/20\n",
      "188/188 [==============================] - 155s 824ms/step - loss: 0.0222 - accuracy: 0.9910\n",
      "Epoch 15/20\n",
      "188/188 [==============================] - 155s 826ms/step - loss: 0.0189 - accuracy: 0.9932\n",
      "Epoch 16/20\n",
      "188/188 [==============================] - 156s 827ms/step - loss: 0.0235 - accuracy: 0.9917\n",
      "Epoch 17/20\n",
      "188/188 [==============================] - 155s 824ms/step - loss: 0.0175 - accuracy: 0.9940\n",
      "Epoch 18/20\n",
      "188/188 [==============================] - 155s 826ms/step - loss: 0.0229 - accuracy: 0.9928\n",
      "Epoch 19/20\n",
      "188/188 [==============================] - 8448s 45s/step - loss: 0.0164 - accuracy: 0.9942\n",
      "Epoch 20/20\n",
      "188/188 [==============================] - 158s 840ms/step - loss: 0.0184 - accuracy: 0.9935\n"
     ]
    }
   ],
   "source": [
    "print(\"[info] training head...\")\n",
    "\n",
    "H = model.fit(\n",
    "    aug.flow(X_train,Y_train,batch_size = BS), # apply data generator on trainning data,\n",
    "    steps_per_epoch = len(X_train) // BS, # apply batch size on our data,\n",
    "    validation_data = (x_test , y_test),\n",
    "    validation_steps = len(x_test) // BS,\n",
    "    epochs = EPOCHS)"
   ]
  },
  {
   "cell_type": "markdown",
   "id": "91cb25f3",
   "metadata": {},
   "source": [
    "**check on trainable layers**"
   ]
  },
  {
   "cell_type": "code",
   "execution_count": 20,
   "id": "4d93305b",
   "metadata": {},
   "outputs": [
    {
     "name": "stdout",
     "output_type": "stream",
     "text": [
      "input_1 False\n",
      "Conv1 False\n",
      "bn_Conv1 False\n",
      "Conv1_relu False\n",
      "expanded_conv_depthwise False\n",
      "expanded_conv_depthwise_BN False\n",
      "expanded_conv_depthwise_relu False\n",
      "expanded_conv_project False\n",
      "expanded_conv_project_BN False\n",
      "block_1_expand False\n",
      "block_1_expand_BN False\n",
      "block_1_expand_relu False\n",
      "block_1_pad False\n",
      "block_1_depthwise False\n",
      "block_1_depthwise_BN False\n",
      "block_1_depthwise_relu False\n",
      "block_1_project False\n",
      "block_1_project_BN False\n",
      "block_2_expand False\n",
      "block_2_expand_BN False\n",
      "block_2_expand_relu False\n",
      "block_2_depthwise False\n",
      "block_2_depthwise_BN False\n",
      "block_2_depthwise_relu False\n",
      "block_2_project False\n",
      "block_2_project_BN False\n",
      "block_2_add False\n",
      "block_3_expand False\n",
      "block_3_expand_BN False\n",
      "block_3_expand_relu False\n",
      "block_3_pad False\n",
      "block_3_depthwise False\n",
      "block_3_depthwise_BN False\n",
      "block_3_depthwise_relu False\n",
      "block_3_project False\n",
      "block_3_project_BN False\n",
      "block_4_expand False\n",
      "block_4_expand_BN False\n",
      "block_4_expand_relu False\n",
      "block_4_depthwise False\n",
      "block_4_depthwise_BN False\n",
      "block_4_depthwise_relu False\n",
      "block_4_project False\n",
      "block_4_project_BN False\n",
      "block_4_add False\n",
      "block_5_expand False\n",
      "block_5_expand_BN False\n",
      "block_5_expand_relu False\n",
      "block_5_depthwise False\n",
      "block_5_depthwise_BN False\n",
      "block_5_depthwise_relu False\n",
      "block_5_project False\n",
      "block_5_project_BN False\n",
      "block_5_add False\n",
      "block_6_expand False\n",
      "block_6_expand_BN False\n",
      "block_6_expand_relu False\n",
      "block_6_pad False\n",
      "block_6_depthwise False\n",
      "block_6_depthwise_BN False\n",
      "block_6_depthwise_relu False\n",
      "block_6_project False\n",
      "block_6_project_BN False\n",
      "block_7_expand False\n",
      "block_7_expand_BN False\n",
      "block_7_expand_relu False\n",
      "block_7_depthwise False\n",
      "block_7_depthwise_BN False\n",
      "block_7_depthwise_relu False\n",
      "block_7_project False\n",
      "block_7_project_BN False\n",
      "block_7_add False\n",
      "block_8_expand False\n",
      "block_8_expand_BN False\n",
      "block_8_expand_relu False\n",
      "block_8_depthwise False\n",
      "block_8_depthwise_BN False\n",
      "block_8_depthwise_relu False\n",
      "block_8_project False\n",
      "block_8_project_BN False\n",
      "block_8_add False\n",
      "block_9_expand False\n",
      "block_9_expand_BN False\n",
      "block_9_expand_relu False\n",
      "block_9_depthwise False\n",
      "block_9_depthwise_BN False\n",
      "block_9_depthwise_relu False\n",
      "block_9_project False\n",
      "block_9_project_BN False\n",
      "block_9_add False\n",
      "block_10_expand False\n",
      "block_10_expand_BN False\n",
      "block_10_expand_relu False\n",
      "block_10_depthwise False\n",
      "block_10_depthwise_BN False\n",
      "block_10_depthwise_relu False\n",
      "block_10_project False\n",
      "block_10_project_BN False\n",
      "block_11_expand False\n",
      "block_11_expand_BN False\n",
      "block_11_expand_relu False\n",
      "block_11_depthwise False\n",
      "block_11_depthwise_BN False\n",
      "block_11_depthwise_relu False\n",
      "block_11_project False\n",
      "block_11_project_BN False\n",
      "block_11_add False\n",
      "block_12_expand False\n",
      "block_12_expand_BN False\n",
      "block_12_expand_relu False\n",
      "block_12_depthwise False\n",
      "block_12_depthwise_BN False\n",
      "block_12_depthwise_relu False\n",
      "block_12_project False\n",
      "block_12_project_BN False\n",
      "block_12_add False\n",
      "block_13_expand False\n",
      "block_13_expand_BN False\n",
      "block_13_expand_relu False\n",
      "block_13_pad False\n",
      "block_13_depthwise False\n",
      "block_13_depthwise_BN False\n",
      "block_13_depthwise_relu False\n",
      "block_13_project False\n",
      "block_13_project_BN False\n",
      "block_14_expand False\n",
      "block_14_expand_BN False\n",
      "block_14_expand_relu False\n",
      "block_14_depthwise False\n",
      "block_14_depthwise_BN False\n",
      "block_14_depthwise_relu False\n",
      "block_14_project False\n",
      "block_14_project_BN False\n",
      "block_14_add False\n",
      "block_15_expand False\n",
      "block_15_expand_BN False\n",
      "block_15_expand_relu False\n",
      "block_15_depthwise False\n",
      "block_15_depthwise_BN False\n",
      "block_15_depthwise_relu False\n",
      "block_15_project False\n",
      "block_15_project_BN False\n",
      "block_15_add False\n",
      "block_16_expand False\n",
      "block_16_expand_BN False\n",
      "block_16_expand_relu False\n",
      "block_16_depthwise False\n",
      "block_16_depthwise_BN False\n",
      "block_16_depthwise_relu False\n",
      "block_16_project False\n",
      "block_16_project_BN False\n",
      "Conv_1 False\n",
      "Conv_1_bn False\n",
      "out_relu False\n",
      "average_pooling2d True\n",
      "flatten True\n",
      "dense True\n",
      "dropout True\n",
      "dense_1 True\n"
     ]
    }
   ],
   "source": [
    "for l in model.layers:\n",
    "    print(l.name, l.trainable)"
   ]
  },
  {
   "cell_type": "markdown",
   "id": "22c352e9",
   "metadata": {},
   "source": [
    "## Prediction"
   ]
  },
  {
   "cell_type": "code",
   "execution_count": 21,
   "id": "5c943291",
   "metadata": {},
   "outputs": [
    {
     "name": "stdout",
     "output_type": "stream",
     "text": [
      "[info] Evaluating network...\n",
      "48/48 [==============================] - 21s 441ms/step\n"
     ]
    }
   ],
   "source": [
    "print(\"[info] Evaluating network...\")\n",
    "predIdxs = model.predict(x_test , batch_size = BS)\n",
    "\n",
    "predIdxs = np.argmax(predIdxs , axis = 1)"
   ]
  },
  {
   "cell_type": "markdown",
   "id": "4142f3ca",
   "metadata": {},
   "source": [
    "**classification report**"
   ]
  },
  {
   "cell_type": "code",
   "execution_count": 22,
   "id": "ea0979a8",
   "metadata": {},
   "outputs": [
    {
     "name": "stdout",
     "output_type": "stream",
     "text": [
      "              precision    recall  f1-score   support\n",
      "\n",
      "   with_mask       0.99      0.99      0.99       745\n",
      "without_mask       0.99      0.99      0.99       766\n",
      "\n",
      "    accuracy                           0.99      1511\n",
      "   macro avg       0.99      0.99      0.99      1511\n",
      "weighted avg       0.99      0.99      0.99      1511\n",
      "\n"
     ]
    }
   ],
   "source": [
    "print(classification_report(y_test.argmax(axis = 1), predIdxs,\n",
    "                           target_names = lb.classes_))"
   ]
  },
  {
   "cell_type": "markdown",
   "id": "a431c9a7",
   "metadata": {},
   "source": [
    "## Saving the model"
   ]
  },
  {
   "cell_type": "code",
   "execution_count": 23,
   "id": "6f86e1fe",
   "metadata": {},
   "outputs": [
    {
     "name": "stdout",
     "output_type": "stream",
     "text": [
      "[info] saving mask detector model...\n"
     ]
    },
    {
     "name": "stderr",
     "output_type": "stream",
     "text": [
      "C:\\Users\\Administrator\\anaconda3\\lib\\site-packages\\keras\\src\\engine\\training.py:3103: UserWarning: You are saving your model as an HDF5 file via `model.save()`. This file format is considered legacy. We recommend using instead the native Keras format, e.g. `model.save('my_model.keras')`.\n",
      "  saving_api.save_model(\n"
     ]
    }
   ],
   "source": [
    "print(\"[info] saving mask detector model...\")\n",
    "\n",
    "model.save(\"mask_detector.model\" , save_format = \"h5\")"
   ]
  },
  {
   "cell_type": "markdown",
   "id": "f37f33c3",
   "metadata": {},
   "source": [
    "### Plot the training loss and accuracy"
   ]
  },
  {
   "cell_type": "code",
   "execution_count": 27,
   "id": "a35af7a8",
   "metadata": {},
   "outputs": [
    {
     "ename": "ValueError",
     "evalue": "x and y must have same first dimension, but have shapes (20,) and (1,)",
     "output_type": "error",
     "traceback": [
      "\u001b[1;31m---------------------------------------------------------------------------\u001b[0m",
      "\u001b[1;31mValueError\u001b[0m                                Traceback (most recent call last)",
      "Cell \u001b[1;32mIn[27], line 5\u001b[0m\n\u001b[0;32m      3\u001b[0m plt\u001b[38;5;241m.\u001b[39mfigure()\n\u001b[0;32m      4\u001b[0m plt\u001b[38;5;241m.\u001b[39mplot(np\u001b[38;5;241m.\u001b[39marange(\u001b[38;5;241m0\u001b[39m, N), H\u001b[38;5;241m.\u001b[39mhistory[\u001b[38;5;124m\"\u001b[39m\u001b[38;5;124mloss\u001b[39m\u001b[38;5;124m\"\u001b[39m], label \u001b[38;5;241m=\u001b[39m \u001b[38;5;124m\"\u001b[39m\u001b[38;5;124mtrain_loss\u001b[39m\u001b[38;5;124m\"\u001b[39m)\n\u001b[1;32m----> 5\u001b[0m \u001b[43mplt\u001b[49m\u001b[38;5;241;43m.\u001b[39;49m\u001b[43mplot\u001b[49m\u001b[43m(\u001b[49m\u001b[43mnp\u001b[49m\u001b[38;5;241;43m.\u001b[39;49m\u001b[43marange\u001b[49m\u001b[43m(\u001b[49m\u001b[38;5;241;43m0\u001b[39;49m\u001b[43m,\u001b[49m\u001b[43m \u001b[49m\u001b[43mN\u001b[49m\u001b[43m)\u001b[49m\u001b[43m,\u001b[49m\u001b[43m \u001b[49m\u001b[43mH\u001b[49m\u001b[38;5;241;43m.\u001b[39;49m\u001b[43mhistory\u001b[49m\u001b[43m[\u001b[49m\u001b[38;5;124;43m\"\u001b[39;49m\u001b[38;5;124;43mval_loss\u001b[39;49m\u001b[38;5;124;43m\"\u001b[39;49m\u001b[43m]\u001b[49m\u001b[43m,\u001b[49m\u001b[43m \u001b[49m\u001b[43mlabel\u001b[49m\u001b[43m \u001b[49m\u001b[38;5;241;43m=\u001b[39;49m\u001b[43m \u001b[49m\u001b[38;5;124;43m\"\u001b[39;49m\u001b[38;5;124;43mval_loss\u001b[39;49m\u001b[38;5;124;43m\"\u001b[39;49m\u001b[43m)\u001b[49m\n\u001b[0;32m      6\u001b[0m plt\u001b[38;5;241m.\u001b[39mplot(np\u001b[38;5;241m.\u001b[39marange(\u001b[38;5;241m0\u001b[39m, N), H\u001b[38;5;241m.\u001b[39mhistory[\u001b[38;5;124m\"\u001b[39m\u001b[38;5;124maccuracy\u001b[39m\u001b[38;5;124m\"\u001b[39m], label \u001b[38;5;241m=\u001b[39m \u001b[38;5;124m\"\u001b[39m\u001b[38;5;124mtrain_acc\u001b[39m\u001b[38;5;124m\"\u001b[39m)\n\u001b[0;32m      7\u001b[0m plt\u001b[38;5;241m.\u001b[39mplot(np\u001b[38;5;241m.\u001b[39marange(\u001b[38;5;241m0\u001b[39m, N), H\u001b[38;5;241m.\u001b[39mhistory[\u001b[38;5;124m\"\u001b[39m\u001b[38;5;124mval_accuracy\u001b[39m\u001b[38;5;124m\"\u001b[39m], label \u001b[38;5;241m=\u001b[39m \u001b[38;5;124m\"\u001b[39m\u001b[38;5;124mval_acc\u001b[39m\u001b[38;5;124m\"\u001b[39m)\n",
      "File \u001b[1;32m~\\anaconda3\\lib\\site-packages\\matplotlib\\pyplot.py:2785\u001b[0m, in \u001b[0;36mplot\u001b[1;34m(scalex, scaley, data, *args, **kwargs)\u001b[0m\n\u001b[0;32m   2783\u001b[0m \u001b[38;5;129m@_copy_docstring_and_deprecators\u001b[39m(Axes\u001b[38;5;241m.\u001b[39mplot)\n\u001b[0;32m   2784\u001b[0m \u001b[38;5;28;01mdef\u001b[39;00m \u001b[38;5;21mplot\u001b[39m(\u001b[38;5;241m*\u001b[39margs, scalex\u001b[38;5;241m=\u001b[39m\u001b[38;5;28;01mTrue\u001b[39;00m, scaley\u001b[38;5;241m=\u001b[39m\u001b[38;5;28;01mTrue\u001b[39;00m, data\u001b[38;5;241m=\u001b[39m\u001b[38;5;28;01mNone\u001b[39;00m, \u001b[38;5;241m*\u001b[39m\u001b[38;5;241m*\u001b[39mkwargs):\n\u001b[1;32m-> 2785\u001b[0m     \u001b[38;5;28;01mreturn\u001b[39;00m gca()\u001b[38;5;241m.\u001b[39mplot(\n\u001b[0;32m   2786\u001b[0m         \u001b[38;5;241m*\u001b[39margs, scalex\u001b[38;5;241m=\u001b[39mscalex, scaley\u001b[38;5;241m=\u001b[39mscaley,\n\u001b[0;32m   2787\u001b[0m         \u001b[38;5;241m*\u001b[39m\u001b[38;5;241m*\u001b[39m({\u001b[38;5;124m\"\u001b[39m\u001b[38;5;124mdata\u001b[39m\u001b[38;5;124m\"\u001b[39m: data} \u001b[38;5;28;01mif\u001b[39;00m data \u001b[38;5;129;01mis\u001b[39;00m \u001b[38;5;129;01mnot\u001b[39;00m \u001b[38;5;28;01mNone\u001b[39;00m \u001b[38;5;28;01melse\u001b[39;00m {}), \u001b[38;5;241m*\u001b[39m\u001b[38;5;241m*\u001b[39mkwargs)\n",
      "File \u001b[1;32m~\\anaconda3\\lib\\site-packages\\matplotlib\\axes\\_axes.py:1688\u001b[0m, in \u001b[0;36mAxes.plot\u001b[1;34m(self, scalex, scaley, data, *args, **kwargs)\u001b[0m\n\u001b[0;32m   1445\u001b[0m \u001b[38;5;124;03m\"\"\"\u001b[39;00m\n\u001b[0;32m   1446\u001b[0m \u001b[38;5;124;03mPlot y versus x as lines and/or markers.\u001b[39;00m\n\u001b[0;32m   1447\u001b[0m \n\u001b[1;32m   (...)\u001b[0m\n\u001b[0;32m   1685\u001b[0m \u001b[38;5;124;03m(``'green'``) or hex strings (``'#008000'``).\u001b[39;00m\n\u001b[0;32m   1686\u001b[0m \u001b[38;5;124;03m\"\"\"\u001b[39;00m\n\u001b[0;32m   1687\u001b[0m kwargs \u001b[38;5;241m=\u001b[39m cbook\u001b[38;5;241m.\u001b[39mnormalize_kwargs(kwargs, mlines\u001b[38;5;241m.\u001b[39mLine2D)\n\u001b[1;32m-> 1688\u001b[0m lines \u001b[38;5;241m=\u001b[39m [\u001b[38;5;241m*\u001b[39m\u001b[38;5;28mself\u001b[39m\u001b[38;5;241m.\u001b[39m_get_lines(\u001b[38;5;241m*\u001b[39margs, data\u001b[38;5;241m=\u001b[39mdata, \u001b[38;5;241m*\u001b[39m\u001b[38;5;241m*\u001b[39mkwargs)]\n\u001b[0;32m   1689\u001b[0m \u001b[38;5;28;01mfor\u001b[39;00m line \u001b[38;5;129;01min\u001b[39;00m lines:\n\u001b[0;32m   1690\u001b[0m     \u001b[38;5;28mself\u001b[39m\u001b[38;5;241m.\u001b[39madd_line(line)\n",
      "File \u001b[1;32m~\\anaconda3\\lib\\site-packages\\matplotlib\\axes\\_base.py:311\u001b[0m, in \u001b[0;36m_process_plot_var_args.__call__\u001b[1;34m(self, data, *args, **kwargs)\u001b[0m\n\u001b[0;32m    309\u001b[0m     this \u001b[38;5;241m+\u001b[39m\u001b[38;5;241m=\u001b[39m args[\u001b[38;5;241m0\u001b[39m],\n\u001b[0;32m    310\u001b[0m     args \u001b[38;5;241m=\u001b[39m args[\u001b[38;5;241m1\u001b[39m:]\n\u001b[1;32m--> 311\u001b[0m \u001b[38;5;28;01myield from\u001b[39;00m \u001b[38;5;28;43mself\u001b[39;49m\u001b[38;5;241;43m.\u001b[39;49m\u001b[43m_plot_args\u001b[49m\u001b[43m(\u001b[49m\n\u001b[0;32m    312\u001b[0m \u001b[43m    \u001b[49m\u001b[43mthis\u001b[49m\u001b[43m,\u001b[49m\u001b[43m \u001b[49m\u001b[43mkwargs\u001b[49m\u001b[43m,\u001b[49m\u001b[43m \u001b[49m\u001b[43mambiguous_fmt_datakey\u001b[49m\u001b[38;5;241;43m=\u001b[39;49m\u001b[43mambiguous_fmt_datakey\u001b[49m\u001b[43m)\u001b[49m\n",
      "File \u001b[1;32m~\\anaconda3\\lib\\site-packages\\matplotlib\\axes\\_base.py:504\u001b[0m, in \u001b[0;36m_process_plot_var_args._plot_args\u001b[1;34m(self, tup, kwargs, return_kwargs, ambiguous_fmt_datakey)\u001b[0m\n\u001b[0;32m    501\u001b[0m     \u001b[38;5;28mself\u001b[39m\u001b[38;5;241m.\u001b[39maxes\u001b[38;5;241m.\u001b[39myaxis\u001b[38;5;241m.\u001b[39mupdate_units(y)\n\u001b[0;32m    503\u001b[0m \u001b[38;5;28;01mif\u001b[39;00m x\u001b[38;5;241m.\u001b[39mshape[\u001b[38;5;241m0\u001b[39m] \u001b[38;5;241m!=\u001b[39m y\u001b[38;5;241m.\u001b[39mshape[\u001b[38;5;241m0\u001b[39m]:\n\u001b[1;32m--> 504\u001b[0m     \u001b[38;5;28;01mraise\u001b[39;00m \u001b[38;5;167;01mValueError\u001b[39;00m(\u001b[38;5;124mf\u001b[39m\u001b[38;5;124m\"\u001b[39m\u001b[38;5;124mx and y must have same first dimension, but \u001b[39m\u001b[38;5;124m\"\u001b[39m\n\u001b[0;32m    505\u001b[0m                      \u001b[38;5;124mf\u001b[39m\u001b[38;5;124m\"\u001b[39m\u001b[38;5;124mhave shapes \u001b[39m\u001b[38;5;132;01m{\u001b[39;00mx\u001b[38;5;241m.\u001b[39mshape\u001b[38;5;132;01m}\u001b[39;00m\u001b[38;5;124m and \u001b[39m\u001b[38;5;132;01m{\u001b[39;00my\u001b[38;5;241m.\u001b[39mshape\u001b[38;5;132;01m}\u001b[39;00m\u001b[38;5;124m\"\u001b[39m)\n\u001b[0;32m    506\u001b[0m \u001b[38;5;28;01mif\u001b[39;00m x\u001b[38;5;241m.\u001b[39mndim \u001b[38;5;241m>\u001b[39m \u001b[38;5;241m2\u001b[39m \u001b[38;5;129;01mor\u001b[39;00m y\u001b[38;5;241m.\u001b[39mndim \u001b[38;5;241m>\u001b[39m \u001b[38;5;241m2\u001b[39m:\n\u001b[0;32m    507\u001b[0m     \u001b[38;5;28;01mraise\u001b[39;00m \u001b[38;5;167;01mValueError\u001b[39;00m(\u001b[38;5;124mf\u001b[39m\u001b[38;5;124m\"\u001b[39m\u001b[38;5;124mx and y can be no greater than 2D, but have \u001b[39m\u001b[38;5;124m\"\u001b[39m\n\u001b[0;32m    508\u001b[0m                      \u001b[38;5;124mf\u001b[39m\u001b[38;5;124m\"\u001b[39m\u001b[38;5;124mshapes \u001b[39m\u001b[38;5;132;01m{\u001b[39;00mx\u001b[38;5;241m.\u001b[39mshape\u001b[38;5;132;01m}\u001b[39;00m\u001b[38;5;124m and \u001b[39m\u001b[38;5;132;01m{\u001b[39;00my\u001b[38;5;241m.\u001b[39mshape\u001b[38;5;132;01m}\u001b[39;00m\u001b[38;5;124m\"\u001b[39m)\n",
      "\u001b[1;31mValueError\u001b[0m: x and y must have same first dimension, but have shapes (20,) and (1,)"
     ]
    },
    {
     "data": {
      "image/png": "[encoded data removed]",
      "text/plain": [
       "<Figure size 640x480 with 1 Axes>"
      ]
     },
     "metadata": {},
     "output_type": "display_data"
    }
   ],
   "source": [
    "N = EPOCHS\n",
    "plt.style.use(\"ggplot\")\n",
    "plt.figure()\n",
    "plt.plot(np.arange(0, N), H.history[\"loss\"], label = \"train_loss\")\n",
    "plt.plot(np.arange(0, N), H.history[\"val_loss\"], label = \"val_loss\")\n",
    "plt.plot(np.arange(0, N), H.history[\"accuracy\"], label = \"train_acc\")\n",
    "plt.plot(np.arange(0, N), H.history[\"val_accuracy\"], label = \"val_acc\")\n",
    "\n",
    "plt.title(\"Training Loss and Accuracy\")\n",
    "\n",
    "plt.xlable(\"# Eploch \")\n",
    "plt.ylable(\"Loss/Accuracy\")\n",
    "plt.legend(loc = \"lower left\")\n",
    "plt.savefig(\"plot.png\")"
   ]
  },
  {
   "cell_type": "code",
   "execution_count": null,
   "id": "b9363615",
   "metadata": {},
   "outputs": [],
   "source": []
  }
 ],
 "metadata": {
  "kernelspec": {
   "display_name": "Python 3 (ipykernel)",
   "language": "python",
   "name": "python3"
  },
  "language_info": {
   "codemirror_mode": {
    "name": "ipython",
    "version": 3
   },
   "file_extension": ".py",
   "mimetype": "text/x-python",
   "name": "python",
   "nbconvert_exporter": "python",
   "pygments_lexer": "ipython3",
   "version": "3.10.9"
  }
 },
 "nbformat": 4,
 "nbformat_minor": 5
}
